{
 "cells": [
  {
   "cell_type": "code",
   "execution_count": null,
   "id": "b102107b-73cb-4559-9419-697f7bb24ac7",
   "metadata": {},
   "outputs": [],
   "source": []
  }
 ],
 "metadata": {
  "kernelspec": {
   "display_name": "",
   "name": ""
  },
  "language_info": {
   "name": ""
  }
 },
 "nbformat": 4,
 "nbformat_minor": 5
}
